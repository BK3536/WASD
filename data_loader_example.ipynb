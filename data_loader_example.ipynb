{
 "cells": [
  {
   "cell_type": "markdown",
   "id": "68271d46",
   "metadata": {},
   "source": [
    "# WASD: Wireless Anomaly Signal Dataset\n",
    "## Dataset Loader Example\n",
    "\n",
    "### Authors\n",
    "Jinha Kim (jinha.kim@o.cnu.ac.kr), Hyeongwoo Kim (Hyeongwoo.kim@o.cnu.ac.kr), Byungkwan Kim(byungkwan.kim@cnu.ac.kr)"
   ]
  },
  {
   "cell_type": "code",
   "execution_count": 1,
   "id": "1910a892-4140-4a5a-a255-89e95c3e2b37",
   "metadata": {},
   "outputs": [],
   "source": [
    "import matplotlib.pyplot as plt\n",
    "import pandas as pd\n",
    "import numpy as np"
   ]
  },
  {
   "cell_type": "markdown",
   "id": "e029e8d0-0a14-442b-a64c-8f9e5b55a89f",
   "metadata": {},
   "source": [
    "## Data Loader for IQ Data"
   ]
  },
  {
   "cell_type": "code",
   "execution_count": 1,
   "id": "133837e1-91c2-455c-8291-6dfd56ecf71c",
   "metadata": {},
   "outputs": [],
   "source": [
    "bin_dir = './IQ_Data/27_LTE_1/bin/IQ_2024-04-19T15-31-17_743444552.bin'\n",
    "bin_data = np.fromfile(bin_dir, 'int32')\n",
    "bin_data = bin_data[::2] + 1j*bin_data[1::2]\n",
    "\n",
    "plt.plot(bin_data.real)\n",
    "plt.plot(bin_data.imag)\n",
    "plt.show()"
   ]
  },
  {
   "cell_type": "markdown",
   "id": "fb71a24b-cbb7-49ee-8da4-c64c72de87fe",
   "metadata": {},
   "source": [
    "## Data Loader for Spectrogram (NPY) Data"
   ]
  },
  {
   "cell_type": "code",
   "execution_count": null,
   "id": "9366c9f2-cfac-4050-8290-a78b7a64427a",
   "metadata": {},
   "outputs": [],
   "source": [
    "DIR_TRAIN = './npy data/Abnormal/Abnormal_spectrogram.npy'\n",
    "input_size = 400\n",
    "idx = 0\n",
    "img_data = np.memmap(DIR_TRAIN, dtype=np.uint16, mode='r+')\n",
    "img_data = np.reshape(img_data,(-1,input_size,input_size))\n",
    "\n",
    "plt.imshow(img_data[idx,:,:])\n",
    "plt.show()"
   ]
  },
  {
   "cell_type": "markdown",
   "id": "4b232d5b-3e97-40f3-bfd9-24c2eed7969f",
   "metadata": {},
   "source": [
    "## Data Loader for Label (CSV) Data"
   ]
  },
  {
   "cell_type": "code",
   "execution_count": null,
   "id": "9f8b36ea-f75d-4e21-b8b1-64d8c810bcb7",
   "metadata": {},
   "outputs": [],
   "source": [
    "df = pd.read_csv('./npy data/Abnormal/label/Spectrum_label.csv')\n",
    "\n",
    "print(df)\n"
   ]
  }
 ],
 "metadata": {
  "kernelspec": {
   "display_name": "base",
   "language": "python",
   "name": "python3"
  },
  "language_info": {
   "codemirror_mode": {
    "name": "ipython",
    "version": 3
   },
   "file_extension": ".py",
   "mimetype": "text/x-python",
   "name": "python",
   "nbconvert_exporter": "python",
   "pygments_lexer": "ipython3",
   "version": "3.12.3"
  }
 },
 "nbformat": 4,
 "nbformat_minor": 5
}
